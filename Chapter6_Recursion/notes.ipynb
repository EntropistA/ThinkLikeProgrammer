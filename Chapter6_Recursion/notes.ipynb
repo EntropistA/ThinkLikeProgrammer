{
 "cells": [
  {
   "cell_type": "code",
   "execution_count": 4,
   "outputs": [],
   "source": [
    "# Test Data"
   ],
   "metadata": {
    "collapsed": false,
    "pycharm": {
     "name": "#%%\n"
    }
   }
  },
  {
   "cell_type": "code",
   "execution_count": 5,
   "outputs": [],
   "source": [
    "from random import randint\n",
    "\n",
    "RANGE = (1, 100_000)\n",
    "SIZE = 100\n",
    "\n",
    "random_numbers = [randint(*RANGE) for _ in range(SIZE)]"
   ],
   "metadata": {
    "collapsed": false,
    "pycharm": {
     "name": "#%%\n"
    }
   }
  },
  {
   "cell_type": "markdown",
   "source": [
    "# Head Recursion - recursion call inside a function\n",
    "\n",
    "The function stores recursive calls values and uses them to shrink values to compare with the currently processed information."
   ],
   "metadata": {
    "collapsed": false,
    "pycharm": {
     "name": "#%% md\n"
    }
   }
  },
  {
   "cell_type": "code",
   "execution_count": 6,
   "outputs": [],
   "source": [
    "def head_recursion_max(list_):\n",
    "    middle_index = len(list_) // 2\n",
    "    value, list_ = list_[middle_index], list_[:middle_index] + list_[middle_index+1:]\n",
    "\n",
    "    if not list_:\n",
    "        return value\n",
    "\n",
    "    max_value = head_recursion_max(list_)\n",
    "    if value > max_value:\n",
    "        return value\n",
    "    return max_value\n",
    "\n",
    "assert max(random_numbers) == head_recursion_max(random_numbers)"
   ],
   "metadata": {
    "collapsed": false,
    "pycharm": {
     "name": "#%%\n"
    }
   }
  },
  {
   "cell_type": "markdown",
   "source": [
    "# Tail Recursion - recursion call as a return value\n",
    "\n",
    "The function mitigates finding solution to a recursive call for as long as the answer does not seem obvious.\n",
    "\n",
    "Recursive call value is not stored or used by the function. It is solely used for the return value."
   ],
   "metadata": {
    "collapsed": false,
    "pycharm": {
     "name": "#%% md\n"
    }
   }
  },
  {
   "cell_type": "code",
   "execution_count": 7,
   "outputs": [],
   "source": [
    "def tail_recursion_max(list_, current_max=None):\n",
    "    first = list_[0]\n",
    "    if current_max is None:\n",
    "        current_max = first\n",
    "    elif first > current_max:\n",
    "            current_max = first\n",
    "\n",
    "    if len(list_) == 1:\n",
    "        return current_max\n",
    "\n",
    "    return tail_recursion_max(list_[1:], current_max)\n",
    "\n",
    "assert max(random_numbers) == tail_recursion_max(random_numbers)"
   ],
   "metadata": {
    "collapsed": false,
    "pycharm": {
     "name": "#%%\n"
    }
   }
  },
  {
   "cell_type": "markdown",
   "source": [
    "Python **does not** have a tail recursion optimization which causes the CPU Stack to grow with each"
   ],
   "metadata": {
    "collapsed": false,
    "pycharm": {
     "name": "#%% md\n"
    }
   }
  },
  {
   "cell_type": "code",
   "execution_count": 7,
   "outputs": [],
   "source": [],
   "metadata": {
    "collapsed": false,
    "pycharm": {
     "name": "#%%\n"
    }
   }
  }
 ],
 "metadata": {
  "kernelspec": {
   "display_name": "Python 3",
   "language": "python",
   "name": "python3"
  },
  "language_info": {
   "codemirror_mode": {
    "name": "ipython",
    "version": 2
   },
   "file_extension": ".py",
   "mimetype": "text/x-python",
   "name": "python",
   "nbconvert_exporter": "python",
   "pygments_lexer": "ipython2",
   "version": "2.7.6"
  }
 },
 "nbformat": 4,
 "nbformat_minor": 0
}
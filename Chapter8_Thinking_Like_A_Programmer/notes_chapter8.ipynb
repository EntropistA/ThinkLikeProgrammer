{
 "cells": [
  {
   "cell_type": "markdown",
   "source": [
    "## Creating Your Own Master Plan\n",
    "\n",
    "### Maximize strengths, minimise weaknesses\n",
    "\n",
    "1. Evaluate your skills in coding and design.\n",
    "2. Focus on your strengths and overall performance will grow.\n",
    "3. Own your mistakes. Keep a list of errors to don't let them repeat.\n",
    "\n",
    "#### Overcoming weaknesses\n",
    "\n",
    "1. Drive your attention to previous m istakes you have made writing similar software.\n",
    "2. Learn principles meant to confront your weakness (like TDD for testing).\n",
    "3."
   ],
   "metadata": {
    "collapsed": false,
    "pycharm": {
     "name": "#%% md\n"
    }
   }
  }
 ],
 "metadata": {
  "kernelspec": {
   "display_name": "Python 3",
   "language": "python",
   "name": "python3"
  },
  "language_info": {
   "codemirror_mode": {
    "name": "ipython",
    "version": 2
   },
   "file_extension": ".py",
   "mimetype": "text/x-python",
   "name": "python",
   "nbconvert_exporter": "python",
   "pygments_lexer": "ipython2",
   "version": "2.7.6"
  }
 },
 "nbformat": 4,
 "nbformat_minor": 0
}